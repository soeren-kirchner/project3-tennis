{
 "cells": [
  {
   "cell_type": "code",
   "execution_count": null,
   "id": "59f2762e-a76c-492f-b45c-789a3dbd8ab5",
   "metadata": {
    "tags": []
   },
   "outputs": [],
   "source": [
    "from tennis import *\n",
    "from multi_agent import MultiAgent"
   ]
  },
  {
   "cell_type": "markdown",
   "id": "f55e9456-7240-4b14-8b20-3b6153a882e4",
   "metadata": {},
   "source": [
    "## Play"
   ]
  },
  {
   "cell_type": "code",
   "execution_count": null,
   "id": "9c07986b-571b-458e-b447-72a9d9f3fb25",
   "metadata": {},
   "outputs": [],
   "source": [
    "multi_agent = MultiAgent(num_agents, state_size, action_size, noise_type=\"normal\")\n",
    "multi_agent.load(suffix=\"max\")\n",
    "\n",
    "play(multi_agent, n_episodes=10)"
   ]
  },
  {
   "cell_type": "code",
   "execution_count": null,
   "id": "33f6710b-1dd2-4370-b423-0bb977504cf7",
   "metadata": {},
   "outputs": [],
   "source": []
  }
 ],
 "metadata": {
  "kernelspec": {
   "display_name": "drlnd",
   "language": "python",
   "name": "drlnd"
  },
  "language_info": {
   "codemirror_mode": {
    "name": "ipython",
    "version": 3
   },
   "file_extension": ".py",
   "mimetype": "text/x-python",
   "name": "python",
   "nbconvert_exporter": "python",
   "pygments_lexer": "ipython3",
   "version": "3.7.4"
  }
 },
 "nbformat": 4,
 "nbformat_minor": 5
}
